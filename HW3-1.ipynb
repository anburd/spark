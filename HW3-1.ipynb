{
 "cells": [
  {
   "cell_type": "code",
   "execution_count": 1,
   "metadata": {
    "id": "idrMQH4dj605"
   },
   "outputs": [],
   "source": [
    "from pyspark.sql import SparkSession\n",
    "from pyspark.sql.functions import col, when\n",
    "import pyspark.sql.functions as F\n",
    "\n",
    "spark = SparkSession.builder\\\n",
    "        .master('local[*]')\\\n",
    "        .appName(\"Example\") \\\n",
    "        .config(\"spark.some.config.option\",\"some-value\") \\\n",
    "        .getOrCreate()\n",
    "\n",
    "sc = spark.sparkContext"
   ]
  },
  {
   "cell_type": "markdown",
   "metadata": {
    "id": "VrBE3PdXtOwT"
   },
   "source": [
    "# Самостоятельная работа\n",
    "\n",
    "Требуется выяснить:\n",
    "1. Какое соотношение сторон экрана телефона самое популярное,\n",
    "2. Плотность пикселей у экрана.\n",
    "\n",
    "Всего 8 баллов.\n"
   ]
  },
  {
   "cell_type": "markdown",
   "metadata": {
    "id": "EQUTJAcqXlm-"
   },
   "source": [
    "# Считывание данных"
   ]
  },
  {
   "cell_type": "code",
   "execution_count": 2,
   "metadata": {
    "id": "E9Vb0d0hutEb"
   },
   "outputs": [
    {
     "name": "stdout",
     "output_type": "stream",
     "text": [
      "+-------------+----+-----------+--------+---+------+----------+-----+---------+-------+---+---------+--------+----+----+----+---------+-------+------------+----+-----------+\n",
      "|battery_power|blue|clock_speed|dual_sim| fc|four_g|int_memory|m_dep|mobile_wt|n_cores| pc|px_height|px_width| ram|sc_h|sc_w|talk_time|three_g|touch_screen|wifi|price_range|\n",
      "+-------------+----+-----------+--------+---+------+----------+-----+---------+-------+---+---------+--------+----+----+----+---------+-------+------------+----+-----------+\n",
      "|          842|   0|        2.2|       0|  1|     0|         7|  0.6|      188|      2|  2|       20|     756|2549|   9|   7|       19|      0|           0|   1|          1|\n",
      "|         1021|   1|        0.5|       1|  0|     1|        53|  0.7|      136|      3|  6|      905|    1988|2631|  17|   3|        7|      1|           1|   0|          2|\n",
      "|          563|   1|        0.5|       1|  2|     1|        41|  0.9|      145|      5|  6|     1263|    1716|2603|  11|   2|        9|      1|           1|   0|          2|\n",
      "+-------------+----+-----------+--------+---+------+----------+-----+---------+-------+---+---------+--------+----+----+----+---------+-------+------------+----+-----------+\n",
      "only showing top 3 rows\n",
      "\n",
      "+---+-------------+----+-----------+--------+---+------+----------+-----+---------+-------+---+---------+--------+----+----+----+---------+-------+------------+----+\n",
      "| id|battery_power|blue|clock_speed|dual_sim| fc|four_g|int_memory|m_dep|mobile_wt|n_cores| pc|px_height|px_width| ram|sc_h|sc_w|talk_time|three_g|touch_screen|wifi|\n",
      "+---+-------------+----+-----------+--------+---+------+----------+-----+---------+-------+---+---------+--------+----+----+----+---------+-------+------------+----+\n",
      "|  1|         1043|   1|        1.8|       1| 14|     0|         5|  0.1|      193|      3| 16|      226|    1412|3476|  12|   7|        2|      0|           1|   0|\n",
      "|  2|          841|   1|        0.5|       1|  4|     1|        61|  0.8|      191|      5| 12|      746|     857|3895|   6|   0|        7|      1|           0|   0|\n",
      "|  3|         1807|   1|        2.8|       0|  1|     0|        27|  0.9|      186|      3|  4|     1270|    1366|2396|  17|  10|       10|      0|           1|   1|\n",
      "+---+-------------+----+-----------+--------+---+------+----------+-----+---------+-------+---+---------+--------+----+----+----+---------+-------+------------+----+\n",
      "only showing top 3 rows\n",
      "\n"
     ]
    }
   ],
   "source": [
    "# Прочитайте содержимое каждого файла в датафрейм и выведите первые несколько строк (1 балл)\n",
    "# Применив cast к колонке можно изменить тип данных (F.col().cast(IntegerType()).alias())\n",
    "# Приведите все данные к правильному типу, либо считайе сразу верно (1 балл)\n",
    "#######\n",
    "train = spark.read.option(key=\"header\", value=\"true\").csv(\"train.csv\")\n",
    "test = spark.read.option(key=\"header\", value=\"true\").csv(\"test.csv\")\n",
    "train.show(3)\n",
    "test.show(3)"
   ]
  },
  {
   "cell_type": "code",
   "execution_count": 3,
   "metadata": {},
   "outputs": [
    {
     "name": "stdout",
     "output_type": "stream",
     "text": [
      "root\n",
      " |-- battery_power: double (nullable = true)\n",
      " |-- blue: double (nullable = true)\n",
      " |-- clock_speed: double (nullable = true)\n",
      " |-- dual_sim: double (nullable = true)\n",
      " |-- fc: double (nullable = true)\n",
      " |-- four_g: double (nullable = true)\n",
      " |-- int_memory: double (nullable = true)\n",
      " |-- m_dep: double (nullable = true)\n",
      " |-- mobile_wt: double (nullable = true)\n",
      " |-- n_cores: double (nullable = true)\n",
      " |-- pc: double (nullable = true)\n",
      " |-- px_height: double (nullable = true)\n",
      " |-- px_width: double (nullable = true)\n",
      " |-- ram: double (nullable = true)\n",
      " |-- sc_h: double (nullable = true)\n",
      " |-- sc_w: double (nullable = true)\n",
      " |-- talk_time: double (nullable = true)\n",
      " |-- three_g: double (nullable = true)\n",
      " |-- touch_screen: double (nullable = true)\n",
      " |-- wifi: double (nullable = true)\n",
      " |-- price_range: double (nullable = true)\n",
      "\n"
     ]
    }
   ],
   "source": [
    "for c in train.columns:\n",
    "    train=train.withColumn(c, train[c].cast('double'))\n",
    "train.printSchema()"
   ]
  },
  {
   "cell_type": "code",
   "execution_count": 4,
   "metadata": {},
   "outputs": [
    {
     "name": "stdout",
     "output_type": "stream",
     "text": [
      "root\n",
      " |-- id: double (nullable = true)\n",
      " |-- battery_power: double (nullable = true)\n",
      " |-- blue: double (nullable = true)\n",
      " |-- clock_speed: double (nullable = true)\n",
      " |-- dual_sim: double (nullable = true)\n",
      " |-- fc: double (nullable = true)\n",
      " |-- four_g: double (nullable = true)\n",
      " |-- int_memory: double (nullable = true)\n",
      " |-- m_dep: double (nullable = true)\n",
      " |-- mobile_wt: double (nullable = true)\n",
      " |-- n_cores: double (nullable = true)\n",
      " |-- pc: double (nullable = true)\n",
      " |-- px_height: double (nullable = true)\n",
      " |-- px_width: double (nullable = true)\n",
      " |-- ram: double (nullable = true)\n",
      " |-- sc_h: double (nullable = true)\n",
      " |-- sc_w: double (nullable = true)\n",
      " |-- talk_time: double (nullable = true)\n",
      " |-- three_g: double (nullable = true)\n",
      " |-- touch_screen: double (nullable = true)\n",
      " |-- wifi: double (nullable = true)\n",
      "\n"
     ]
    }
   ],
   "source": [
    "for c in test.columns:\n",
    "    test=test.withColumn(c, test[c].cast('double'))\n",
    "test.printSchema()"
   ]
  },
  {
   "cell_type": "markdown",
   "metadata": {
    "id": "kjCdeAS4v1Vc"
   },
   "source": [
    "## Объединим train и test\n",
    "Найти нужную функцию можно [здесь](https://spark.apache.org/docs/2.4.0/api/python/pyspark.sql.html)\n",
    "\n",
    "PS: нужно сделать средствами pyspark (аналог в пандас pd.concat([train, test,], axis=0))"
   ]
  },
  {
   "cell_type": "code",
   "execution_count": 5,
   "metadata": {
    "id": "5-Oeq54KxhXa"
   },
   "outputs": [
    {
     "name": "stdout",
     "output_type": "stream",
     "text": [
      "+---+-------------+----+-----------+--------+----+------+----------+-----+---------+-------+----+---------+--------+------+----+----+---------+-------+------------+----+\n",
      "| id|battery_power|blue|clock_speed|dual_sim|  fc|four_g|int_memory|m_dep|mobile_wt|n_cores|  pc|px_height|px_width|   ram|sc_h|sc_w|talk_time|three_g|touch_screen|wifi|\n",
      "+---+-------------+----+-----------+--------+----+------+----------+-----+---------+-------+----+---------+--------+------+----+----+---------+-------+------------+----+\n",
      "|1.0|       1043.0| 1.0|        1.8|     1.0|14.0|   0.0|       5.0|  0.1|    193.0|    3.0|16.0|    226.0|  1412.0|3476.0|12.0| 7.0|      2.0|    0.0|         1.0| 0.0|\n",
      "|2.0|        841.0| 1.0|        0.5|     1.0| 4.0|   1.0|      61.0|  0.8|    191.0|    5.0|12.0|    746.0|   857.0|3895.0| 6.0| 0.0|      7.0|    1.0|         0.0| 0.0|\n",
      "|3.0|       1807.0| 1.0|        2.8|     0.0| 1.0|   0.0|      27.0|  0.9|    186.0|    3.0| 4.0|   1270.0|  1366.0|2396.0|17.0|10.0|     10.0|    0.0|         1.0| 1.0|\n",
      "+---+-------------+----+-----------+--------+----+------+----------+-----+---------+-------+----+---------+--------+------+----+----+---------+-------+------------+----+\n",
      "only showing top 3 rows\n",
      "\n",
      "root\n",
      " |-- id: double (nullable = true)\n",
      " |-- battery_power: double (nullable = true)\n",
      " |-- blue: double (nullable = true)\n",
      " |-- clock_speed: double (nullable = true)\n",
      " |-- dual_sim: double (nullable = true)\n",
      " |-- fc: double (nullable = true)\n",
      " |-- four_g: double (nullable = true)\n",
      " |-- int_memory: double (nullable = true)\n",
      " |-- m_dep: double (nullable = true)\n",
      " |-- mobile_wt: double (nullable = true)\n",
      " |-- n_cores: double (nullable = true)\n",
      " |-- pc: double (nullable = true)\n",
      " |-- px_height: double (nullable = true)\n",
      " |-- px_width: double (nullable = true)\n",
      " |-- ram: double (nullable = true)\n",
      " |-- sc_h: double (nullable = true)\n",
      " |-- sc_w: double (nullable = true)\n",
      " |-- talk_time: double (nullable = true)\n",
      " |-- three_g: double (nullable = true)\n",
      " |-- touch_screen: double (nullable = true)\n",
      " |-- wifi: double (nullable = true)\n",
      "\n"
     ]
    }
   ],
   "source": [
    "# Объедините train и test (1 балла)\n",
    "###############\n",
    "# Ваш код здесь\n",
    "data = test.union(train)\n",
    "data.show(3)\n",
    "data.printSchema()"
   ]
  },
  {
   "cell_type": "code",
   "execution_count": 6,
   "metadata": {
    "id": "yZgL4q1gyrRm"
   },
   "outputs": [
    {
     "name": "stdout",
     "output_type": "stream",
     "text": [
      "+------+-------------+----+-----------+--------+----+------+----------+-----+---------+-------+-----+---------+--------+------+----+----+---------+-------+------------+----+------------------+\n",
      "|    id|battery_power|blue|clock_speed|dual_sim|  fc|four_g|int_memory|m_dep|mobile_wt|n_cores|   pc|px_height|px_width|   ram|sc_h|sc_w|talk_time|three_g|touch_screen|wifi|               ppi|\n",
      "+------+-------------+----+-----------+--------+----+------+----------+-----+---------+-------+-----+---------+--------+------+----+----+---------+-------+------------+----+------------------+\n",
      "| 876.0|       1252.0| 1.0|        2.6|     1.0| 1.0|   1.0|      43.0|  0.8|    124.0|    1.0|  3.0|    153.0|   538.0|2447.0|18.0|15.0|     11.0|    1.0|         0.0| 0.0| 23.87173527397815|\n",
      "| 382.0|       1088.0| 1.0|        3.0|     1.0| 2.0|   1.0|      52.0|  0.3|    164.0|    7.0|  4.0|     86.0|   588.0|1447.0|19.0|16.0|     15.0|    1.0|         1.0| 1.0|23.923839178469603|\n",
      "| 339.0|       1709.0| 0.0|        2.2|     1.0| 1.0|   1.0|      13.0|  0.6|    191.0|    6.0|  6.0|     74.0|   516.0|3899.0|16.0|13.0|      3.0|    1.0|         0.0| 1.0|25.285755115572602|\n",
      "|  85.0|       1999.0| 0.0|        0.5|     1.0| 1.0|   1.0|      15.0|  0.7|    183.0|    8.0| 11.0|     33.0|   653.0|3840.0|19.0|17.0|     12.0|    1.0|         0.0| 1.0|25.645452438380392|\n",
      "| 875.0|       1255.0| 0.0|        1.1|     0.0| 0.0|   1.0|      34.0|  0.2|     85.0|    3.0|  1.0|    118.0|   722.0|1749.0|19.0|17.0|      8.0|    1.0|         1.0| 1.0| 28.69489367599962|\n",
      "| 739.0|        534.0| 1.0|        1.5|     1.0| 3.0|   1.0|       3.0|  0.3|     89.0|    1.0|  8.0|     45.0|   517.0|2987.0|18.0| 0.0|     16.0|    1.0|         0.0| 1.0| 28.83081770229065|\n",
      "| 391.0|       1679.0| 1.0|        1.5|     0.0| 2.0|   1.0|       4.0|  0.1|    133.0|    4.0|  3.0|    349.0|   531.0|1557.0|16.0|15.0|     12.0|    1.0|         0.0| 1.0|28.972780974943316|\n",
      "| 647.0|        613.0| 0.0|        2.5|     0.0| 0.0|   0.0|      53.0|  0.4|    200.0|    8.0|  0.0|    519.0|   586.0|1509.0|19.0|18.0|     13.0|    1.0|         1.0| 1.0| 29.90879078838457|\n",
      "| 202.0|        895.0| 1.0|        2.5|     0.0| 2.0|   0.0|      23.0|  0.5|     98.0|    5.0|  3.0|     26.0|   663.0|2724.0|16.0|14.0|      7.0|    0.0|         0.0| 0.0|31.208866734180823|\n",
      "| 776.0|       1179.0| 0.0|        2.1|     0.0| 0.0|   0.0|       2.0|  0.3|     93.0|    3.0|  0.0|    481.0|   536.0|1435.0|19.0|13.0|      2.0|    0.0|         1.0| 0.0|31.282552856305497|\n",
      "| 455.0|        683.0| 1.0|        1.9|     1.0|16.0|   1.0|      56.0|  0.1|    190.0|    1.0| 17.0|    144.0|   585.0| 592.0|17.0| 9.0|      3.0|    1.0|         0.0| 0.0| 31.32053121637109|\n",
      "| 424.0|       1042.0| 1.0|        0.5|     1.0|11.0|   0.0|      13.0|  0.1|    148.0|    3.0| 20.0|     98.0|   569.0|1715.0|17.0| 7.0|      7.0|    1.0|         1.0| 1.0| 31.40520629208668|\n",
      "|1194.0|          0.0| 2.3|        0.0|     6.0| 1.0|  34.0|       0.2|165.0|      2.0|   12.0|494.0|    509.0|   313.0|  15.0| 1.0|19.0|      1.0|    1.0|         0.0| 0.0| 31.40582695696499|\n",
      "| 458.0|        815.0| 1.0|        1.8|     0.0| 9.0|   0.0|      18.0|  0.9|     83.0|    7.0| 12.0|    243.0|   525.0|2131.0|17.0| 7.0|      5.0|    0.0|         1.0| 0.0|31.466804148397554|\n",
      "| 251.0|       1361.0| 0.0|        0.6|     0.0| 0.0|   1.0|      64.0|  1.0|     91.0|    3.0|  2.0|    174.0|   574.0|3751.0|18.0| 6.0|     19.0|    1.0|         1.0| 0.0|31.611882435424672|\n",
      "| 772.0|       1324.0| 0.0|        1.7|     1.0| 9.0|   0.0|      46.0|  0.1|    107.0|    2.0| 19.0|     59.0|   553.0|1424.0|16.0| 7.0|     13.0|    1.0|         0.0| 0.0| 31.84439626952428|\n",
      "| 619.0|        880.0| 0.0|        0.5|     1.0| 7.0|   1.0|      32.0|  0.5|    141.0|    4.0| 17.0|    346.0|   739.0|1141.0|19.0|17.0|     20.0|    1.0|         1.0| 1.0| 32.00569660833232|\n",
      "| 439.0|        723.0| 1.0|        0.5|     0.0| 0.0|   0.0|      36.0|  0.8|    104.0|    4.0|  0.0|    263.0|   514.0|2669.0|17.0| 6.0|     16.0|    0.0|         0.0| 1.0| 32.02715194235138|\n",
      "| 440.0|       1403.0| 0.0|        0.7|     1.0| 4.0|   0.0|      32.0|  0.1|    117.0|    1.0|  5.0|    257.0|   551.0|2499.0|16.0|10.0|      4.0|    0.0|         0.0| 1.0|32.223325350267835|\n",
      "| 451.0|        853.0| 1.0|        1.9|     1.0|17.0|   1.0|      26.0|  0.5|     94.0|    6.0| 18.0|    114.0|   817.0|3069.0|19.0|17.0|     20.0|    1.0|         0.0| 0.0|32.355834095260164|\n",
      "+------+-------------+----+-----------+--------+----+------+----------+-----+---------+-------+-----+---------+--------+------+----+----+---------+-------+------------+----+------------------+\n",
      "only showing top 20 rows\n",
      "\n",
      "+------------------+\n",
      "|               ppi|\n",
      "+------------------+\n",
      "| 23.87173527397815|\n",
      "|23.923839178469603|\n",
      "|25.285755115572602|\n",
      "|25.645452438380392|\n",
      "| 28.69489367599962|\n",
      "| 28.83081770229065|\n",
      "|28.972780974943316|\n",
      "| 29.90879078838457|\n",
      "|31.208866734180823|\n",
      "|31.282552856305497|\n",
      "| 31.32053121637109|\n",
      "| 31.40520629208668|\n",
      "| 31.40582695696499|\n",
      "|31.466804148397554|\n",
      "|31.611882435424672|\n",
      "| 31.84439626952428|\n",
      "| 32.00569660833232|\n",
      "| 32.02715194235138|\n",
      "|32.223325350267835|\n",
      "|32.355834095260164|\n",
      "+------------------+\n",
      "only showing top 20 rows\n",
      "\n"
     ]
    }
   ],
   "source": [
    "# Выведите отсортированное распределение плотности пикселей (1 балла)\n",
    "# в пикселях на дюйм\n",
    "###############\n",
    "\n",
    "# Заморочимся но сделаем правильно)): см переведем в дюймы и ррi расчитаем как положено через диагональ\n",
    "\n",
    "\n",
    "data.withColumn('sc_h', col('sc_h')/2.54)\n",
    "data.withColumn('sc_w', col('sc_w')/2.54)\n",
    "\n",
    "data = data.withColumn('ppi', (F.sqrt(F.pow(data.px_width, 2) + F.pow(data.px_height,2)) )/(F.sqrt(F.pow(data.sc_h, 2) + F.pow(data.sc_w, 2))))\n",
    "\n",
    "data.sort(['ppi'],ascending = True).show()\n",
    "\n",
    "data.select('ppi').sort(['ppi'],ascending = True).show()"
   ]
  },
  {
   "cell_type": "markdown",
   "metadata": {
    "id": "PNAGeyOmzEN4"
   },
   "source": [
    "## Сохранение\n"
   ]
  },
  {
   "cell_type": "code",
   "execution_count": 8,
   "metadata": {
    "id": "kRb1q9QizDiH"
   },
   "outputs": [],
   "source": [
    "# Сохраните результат в csv sep=';', encoding='cp1251'\n",
    "# с колонками id, плотность пикселей и общей инфой в формате \"2 ядра 2 гига\"\n",
    "# 2 балла\n",
    "###############\n",
    "data_save = data.select('id', 'ppi', 'n_cores', 'int_memory')\n",
    "\n",
    "data_save.write.csv('results.csv', sep=';', header=True, encoding='cp1251')"
   ]
  },
  {
   "cell_type": "code",
   "execution_count": null,
   "metadata": {},
   "outputs": [],
   "source": []
  }
 ],
 "metadata": {
  "colab": {
   "provenance": []
  },
  "kernelspec": {
   "display_name": "Python 3 (ipykernel)",
   "language": "python",
   "name": "python3"
  },
  "language_info": {
   "codemirror_mode": {
    "name": "ipython",
    "version": 3
   },
   "file_extension": ".py",
   "mimetype": "text/x-python",
   "name": "python",
   "nbconvert_exporter": "python",
   "pygments_lexer": "ipython3",
   "version": "3.11.6"
  }
 },
 "nbformat": 4,
 "nbformat_minor": 4
}
