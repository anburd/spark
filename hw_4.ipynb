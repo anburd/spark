{
 "cells": [
  {
   "cell_type": "markdown",
   "metadata": {
    "id": "GtgTzmyplZDH"
   },
   "source": [
    "# Финальное задание\n",
    "Перепешите код на pyspark. "
   ]
  },
  {
   "cell_type": "code",
   "execution_count": 1,
   "metadata": {},
   "outputs": [],
   "source": [
    "from pyspark.sql import SparkSession\n",
    "from pyspark.sql.functions import col, when\n",
    "import pyspark.sql.functions as F\n",
    "from pyspark.ml.linalg import DenseVector\n",
    "from pyspark.ml.classification import LogisticRegression\n",
    "from pyspark.ml.regression import LinearRegression\n",
    "from pyspark.ml.feature import StringIndexer\n",
    "from pyspark.ml.feature import OneHotEncoder\n",
    "from pyspark.ml.feature import VectorAssembler"
   ]
  },
  {
   "cell_type": "code",
   "execution_count": 2,
   "metadata": {},
   "outputs": [],
   "source": [
    "\n",
    "\n",
    "spark = SparkSession.builder\\\n",
    "        .master('local[*]')\\\n",
    "        .appName(\"Example\") \\\n",
    "        .config(\"spark.some.config.option\",\"some-value\") \\\n",
    "        .getOrCreate()\n",
    "\n",
    "sc = spark.sparkContext"
   ]
  },
  {
   "cell_type": "code",
   "execution_count": 3,
   "metadata": {},
   "outputs": [],
   "source": [
    "from pyspark.sql.types import *\n",
    "\n",
    "\n",
    "schema = StructType([\n",
    "    StructField('ID', IntegerType()),\n",
    "    StructField('CODE_GENDER', StringType()),\n",
    "    StructField('FLAG_OWN_CAR', StringType()),\n",
    "    StructField('FLAG_OWN_REALTY', StringType()),\n",
    "    StructField('CNT_CHILDREN ', FloatType()),\n",
    "    StructField('AMT_INCOME_TOTAL', FloatType()),\n",
    "    StructField('NAME_INCOME_TYPE', StringType()),\n",
    "    StructField('NAME_EDUCATION_TYPE', StringType()),\n",
    "    StructField('NAME_FAMILY_STATUS', StringType()),  \n",
    "    StructField('NAME_HOUSING_TYPE', StringType()),\n",
    "    StructField('DAYS_BIRTH', FloatType()),\n",
    "    StructField('DAYS_EMPLOYED', FloatType()),\n",
    "    StructField('FLAG_WORK_PHONE', FloatType()),\n",
    "    StructField('FLAG_PHONE', FloatType()),\n",
    "    StructField('FLAG_EMAIL', FloatType()),\n",
    "    StructField('OCCUPATION_TYPE', StringType()),\n",
    "    StructField('CNT_FAM_MEMBERS', FloatType())\n",
    "])\n",
    "schema2 = StructType([\n",
    "    StructField('ID', IntegerType()),\n",
    "    StructField('MONTHS_BALANCE', FloatType()),\n",
    "    StructField('STATUS', StringType())\n",
    "])\n",
    " "
   ]
  },
  {
   "cell_type": "code",
   "execution_count": 4,
   "metadata": {
    "id": "NPWJlfq3nnYr"
   },
   "outputs": [],
   "source": [
    "data = spark.read.option(key=\"header\", value=\"true\").schema(schema).csv(\"application_record.csv\")"
   ]
  },
  {
   "cell_type": "code",
   "execution_count": 5,
   "metadata": {},
   "outputs": [
    {
     "name": "stdout",
     "output_type": "stream",
     "text": [
      "root\n",
      " |-- ID: integer (nullable = true)\n",
      " |-- CODE_GENDER: string (nullable = true)\n",
      " |-- FLAG_OWN_CAR: string (nullable = true)\n",
      " |-- FLAG_OWN_REALTY: string (nullable = true)\n",
      " |-- CNT_CHILDREN : float (nullable = true)\n",
      " |-- AMT_INCOME_TOTAL: float (nullable = true)\n",
      " |-- NAME_INCOME_TYPE: string (nullable = true)\n",
      " |-- NAME_EDUCATION_TYPE: string (nullable = true)\n",
      " |-- NAME_FAMILY_STATUS: string (nullable = true)\n",
      " |-- NAME_HOUSING_TYPE: string (nullable = true)\n",
      " |-- DAYS_BIRTH: float (nullable = true)\n",
      " |-- DAYS_EMPLOYED: float (nullable = true)\n",
      " |-- FLAG_WORK_PHONE: float (nullable = true)\n",
      " |-- FLAG_PHONE: float (nullable = true)\n",
      " |-- FLAG_EMAIL: float (nullable = true)\n",
      " |-- OCCUPATION_TYPE: string (nullable = true)\n",
      " |-- CNT_FAM_MEMBERS: float (nullable = true)\n",
      "\n"
     ]
    }
   ],
   "source": [
    "data.printSchema()"
   ]
  },
  {
   "cell_type": "code",
   "execution_count": 6,
   "metadata": {
    "id": "NPWJlfq3nnYr"
   },
   "outputs": [
    {
     "name": "stdout",
     "output_type": "stream",
     "text": [
      "+-------+--------------+------+\n",
      "|     ID|MONTHS_BALANCE|STATUS|\n",
      "+-------+--------------+------+\n",
      "|5001711|           0.0|     X|\n",
      "|5001711|          -1.0|     0|\n",
      "|5001711|          -2.0|     0|\n",
      "|5001711|          -3.0|     0|\n",
      "|5001712|           0.0|     C|\n",
      "|5001712|          -1.0|     C|\n",
      "|5001712|          -2.0|     C|\n",
      "|5001712|          -3.0|     C|\n",
      "|5001712|          -4.0|     C|\n",
      "|5001712|          -5.0|     C|\n",
      "|5001712|          -6.0|     C|\n",
      "|5001712|          -7.0|     C|\n",
      "|5001712|          -8.0|     C|\n",
      "|5001712|          -9.0|     0|\n",
      "|5001712|         -10.0|     0|\n",
      "|5001712|         -11.0|     0|\n",
      "|5001712|         -12.0|     0|\n",
      "|5001712|         -13.0|     0|\n",
      "|5001712|         -14.0|     0|\n",
      "|5001712|         -15.0|     0|\n",
      "+-------+--------------+------+\n",
      "only showing top 20 rows\n",
      "\n",
      "root\n",
      " |-- ID: integer (nullable = true)\n",
      " |-- MONTHS_BALANCE: float (nullable = true)\n",
      " |-- STATUS: string (nullable = true)\n",
      "\n"
     ]
    }
   ],
   "source": [
    "record = spark.read.option(key=\"header\", value=\"true\").schema(schema2).csv(\"credit_record.csv\")\n",
    "record.show()\n",
    "record.printSchema()"
   ]
  },
  {
   "cell_type": "code",
   "execution_count": 7,
   "metadata": {},
   "outputs": [
    {
     "name": "stdout",
     "output_type": "stream",
     "text": [
      "+-------+-----------+\n",
      "|     ID|begin_month|\n",
      "+-------+-----------+\n",
      "|5001812|       22.0|\n",
      "|5001849|        8.0|\n",
      "|5001921|       19.0|\n",
      "|5003338|       33.0|\n",
      "|5003386|        7.0|\n",
      "|5003485|       16.0|\n",
      "|5003623|       44.0|\n",
      "|5004426|       21.0|\n",
      "|5004485|       14.0|\n",
      "|5004511|       49.0|\n",
      "|5004620|       16.0|\n",
      "|5004650|       37.0|\n",
      "|5004774|       28.0|\n",
      "|5005000|        6.0|\n",
      "|5005607|       35.0|\n",
      "|5005681|       30.0|\n",
      "|5009033|       16.0|\n",
      "|5009304|       34.0|\n",
      "|5009355|       25.0|\n",
      "|5009429|        2.0|\n",
      "+-------+-----------+\n",
      "only showing top 20 rows\n",
      "\n"
     ]
    }
   ],
   "source": [
    "new_df = record.groupBy('ID').agg((F.min('MONTHS_BALANCE')*-1).alias('begin_month'))\n",
    "new_df.show()"
   ]
  },
  {
   "cell_type": "code",
   "execution_count": 8,
   "metadata": {},
   "outputs": [
    {
     "name": "stdout",
     "output_type": "stream",
     "text": [
      "+-------+--------------+------+-----------+\n",
      "|     ID|MONTHS_BALANCE|STATUS|begin_month|\n",
      "+-------+--------------+------+-----------+\n",
      "|5001711|           0.0|     X|        3.0|\n",
      "|5001711|          -1.0|     0|        3.0|\n",
      "|5001711|          -2.0|     0|        3.0|\n",
      "|5001711|          -3.0|     0|        3.0|\n",
      "|5001712|           0.0|     C|       18.0|\n",
      "|5001712|          -1.0|     C|       18.0|\n",
      "|5001712|          -2.0|     C|       18.0|\n",
      "|5001712|          -3.0|     C|       18.0|\n",
      "|5001712|          -4.0|     C|       18.0|\n",
      "|5001712|          -5.0|     C|       18.0|\n",
      "|5001712|          -6.0|     C|       18.0|\n",
      "|5001712|          -7.0|     C|       18.0|\n",
      "|5001712|          -8.0|     C|       18.0|\n",
      "|5001712|          -9.0|     0|       18.0|\n",
      "|5001712|         -10.0|     0|       18.0|\n",
      "|5001712|         -11.0|     0|       18.0|\n",
      "|5001712|         -12.0|     0|       18.0|\n",
      "|5001712|         -13.0|     0|       18.0|\n",
      "|5001712|         -14.0|     0|       18.0|\n",
      "|5001712|         -15.0|     0|       18.0|\n",
      "+-------+--------------+------+-----------+\n",
      "only showing top 20 rows\n",
      "\n"
     ]
    }
   ],
   "source": [
    "record.join(new_df, on = 'ID', how = 'left').show()\n"
   ]
  },
  {
   "cell_type": "code",
   "execution_count": 9,
   "metadata": {},
   "outputs": [
    {
     "name": "stdout",
     "output_type": "stream",
     "text": [
      "+-------+--------------+------+---------+\n",
      "|     ID|MONTHS_BALANCE|STATUS|dep_value|\n",
      "+-------+--------------+------+---------+\n",
      "|5001711|           0.0|     X|        0|\n",
      "|5001711|          -1.0|     0|        0|\n",
      "|5001711|          -2.0|     0|        0|\n",
      "|5001711|          -3.0|     0|        0|\n",
      "|5001712|           0.0|     C|        0|\n",
      "|5001712|          -1.0|     C|        0|\n",
      "|5001712|          -2.0|     C|        0|\n",
      "|5001712|          -3.0|     C|        0|\n",
      "|5001712|          -4.0|     C|        0|\n",
      "|5001712|          -5.0|     C|        0|\n",
      "|5001712|          -6.0|     C|        0|\n",
      "|5001712|          -7.0|     C|        0|\n",
      "|5001712|          -8.0|     C|        0|\n",
      "|5001712|          -9.0|     0|        0|\n",
      "|5001712|         -10.0|     0|        0|\n",
      "|5001712|         -11.0|     0|        0|\n",
      "|5001712|         -12.0|     0|        0|\n",
      "|5001712|         -13.0|     0|        0|\n",
      "|5001712|         -14.0|     0|        0|\n",
      "|5001712|         -15.0|     0|        0|\n",
      "+-------+--------------+------+---------+\n",
      "only showing top 20 rows\n",
      "\n"
     ]
    }
   ],
   "source": [
    "record.withColumn('dep_value', F.lit(0)).show()"
   ]
  },
  {
   "cell_type": "code",
   "execution_count": 10,
   "metadata": {},
   "outputs": [
    {
     "name": "stdout",
     "output_type": "stream",
     "text": [
      "+-------+--------------+------+---------+\n",
      "|     ID|MONTHS_BALANCE|STATUS|dep_value|\n",
      "+-------+--------------+------+---------+\n",
      "|5001711|           0.0|     X|        0|\n",
      "|5001711|          -1.0|     0|        0|\n",
      "|5001711|          -2.0|     0|        0|\n",
      "|5001711|          -3.0|     0|        0|\n",
      "|5001712|           0.0|     C|        0|\n",
      "|5001712|          -1.0|     C|        0|\n",
      "|5001712|          -2.0|     C|        0|\n",
      "|5001712|          -3.0|     C|        0|\n",
      "|5001712|          -4.0|     C|        0|\n",
      "|5001712|          -5.0|     C|        0|\n",
      "|5001712|          -6.0|     C|        0|\n",
      "|5001712|          -7.0|     C|        0|\n",
      "|5001712|          -8.0|     C|        0|\n",
      "|5001712|          -9.0|     0|        0|\n",
      "|5001712|         -10.0|     0|        0|\n",
      "|5001712|         -11.0|     0|        0|\n",
      "|5001712|         -12.0|     0|        0|\n",
      "|5001712|         -13.0|     0|        0|\n",
      "|5001712|         -14.0|     0|        0|\n",
      "|5001712|         -15.0|     0|        0|\n",
      "+-------+--------------+------+---------+\n",
      "only showing top 20 rows\n",
      "\n"
     ]
    }
   ],
   "source": [
    "record = record.withColumn(\n",
    "    'dep_value', \n",
    "    F.when((F.col('STATUS') == '2') \\\n",
    "           | (F.col('STATUS') =='3') | (F.col('STATUS') == '4') \\\n",
    "           | (F.col('STATUS') =='5'), 1)\n",
    "    .otherwise(0)\n",
    ")\n",
    "\n",
    "record.show()"
   ]
  },
  {
   "cell_type": "code",
   "execution_count": 11,
   "metadata": {},
   "outputs": [
    {
     "name": "stdout",
     "output_type": "stream",
     "text": [
      "+-------+------+\n",
      "|     ID|target|\n",
      "+-------+------+\n",
      "|5001812|     0|\n",
      "|5001849|     0|\n",
      "|5001921|     0|\n",
      "|5003338|     0|\n",
      "|5003386|     0|\n",
      "|5003485|     0|\n",
      "|5003623|     0|\n",
      "|5004426|     0|\n",
      "|5004485|     0|\n",
      "|5004511|     0|\n",
      "|5004620|     0|\n",
      "|5004650|     0|\n",
      "|5004774|     0|\n",
      "|5005000|     0|\n",
      "|5005607|     0|\n",
      "|5005681|     0|\n",
      "|5009033|     0|\n",
      "|5009304|     0|\n",
      "|5009355|     0|\n",
      "|5009429|     0|\n",
      "+-------+------+\n",
      "only showing top 20 rows\n",
      "\n"
     ]
    }
   ],
   "source": [
    "cpunt = record.groupBy('ID').agg((F.sum('dep_value')).alias('target'))\n",
    "cpunt.show()"
   ]
  },
  {
   "cell_type": "code",
   "execution_count": 12,
   "metadata": {},
   "outputs": [],
   "source": [
    "cpunt=cpunt.withColumn('target', when(cpunt['target'] > 0, 1).otherwise(0))"
   ]
  },
  {
   "cell_type": "code",
   "execution_count": 13,
   "metadata": {},
   "outputs": [],
   "source": [
    "data_new=data.join(cpunt , on = 'ID', how = 'inner')"
   ]
  },
  {
   "cell_type": "code",
   "execution_count": null,
   "metadata": {
    "scrolled": true
   },
   "outputs": [
    {
     "name": "stdout",
     "output_type": "stream",
     "text": [
      "+----------------+-----------+------------+---------------+-------------+------+\n",
      "|AMT_INCOME_TOTAL|CODE_GENDER|FLAG_OWN_CAR|FLAG_OWN_REALTY|CNT_CHILDREN |target|\n",
      "+----------------+-----------+------------+---------------+-------------+------+\n",
      "|        427500.0|          M|           Y|              Y|          0.0|     0|\n",
      "|        427500.0|          M|           Y|              Y|          0.0|     0|\n",
      "|        112500.0|          M|           Y|              Y|          0.0|     0|\n",
      "|        270000.0|          F|           N|              Y|          0.0|     0|\n",
      "|        270000.0|          F|           N|              Y|          0.0|     0|\n",
      "|        270000.0|          F|           N|              Y|          0.0|     0|\n",
      "|        270000.0|          F|           N|              Y|          0.0|     0|\n",
      "|        283500.0|          F|           N|              Y|          0.0|     0|\n",
      "|        283500.0|          F|           N|              Y|          0.0|     0|\n",
      "|        283500.0|          F|           N|              Y|          0.0|     0|\n",
      "|        270000.0|          M|           Y|              Y|          0.0|     0|\n",
      "|        270000.0|          M|           Y|              Y|          0.0|     0|\n",
      "|        135000.0|          M|           Y|              Y|          0.0|     0|\n",
      "|        135000.0|          M|           Y|              Y|          0.0|     0|\n",
      "|        135000.0|          M|           Y|              Y|          0.0|     0|\n",
      "|        135000.0|          M|           Y|              Y|          0.0|     0|\n",
      "|        135000.0|          M|           Y|              Y|          0.0|     0|\n",
      "|        135000.0|          M|           Y|              Y|          0.0|     0|\n",
      "|        130500.0|          F|           Y|              N|          0.0|     0|\n",
      "|        130500.0|          F|           Y|              N|          0.0|     0|\n",
      "+----------------+-----------+------------+---------------+-------------+------+\n",
      "only showing top 20 rows\n",
      "\n"
     ]
    }
   ],
   "source": [
    "df=data_new.select(col('AMT_INCOME_TOTAL'), col('CODE_GENDER'), col('FLAG_OWN_CAR'), col('FLAG_OWN_REALTY'), col('CNT_CHILDREN '), col('target'))\n",
    "df.show()"
   ]
  },
  {
   "cell_type": "code",
   "execution_count": null,
   "metadata": {},
   "outputs": [],
   "source": [
    "df.filter('target!=0').show()"
   ]
  },
  {
   "cell_type": "code",
   "execution_count": null,
   "metadata": {},
   "outputs": [],
   "source": [
    "df.select(\n",
    "    [F.count(F.when(F.isnan(c), c)).alias(c) for c in df.columns]\n",
    ").show()"
   ]
  },
  {
   "cell_type": "code",
   "execution_count": null,
   "metadata": {},
   "outputs": [],
   "source": [
    "# Разбиваем на трейн и тест\n",
    "train, test = df.randomSplit([0.7, 0.3])"
   ]
  },
  {
   "cell_type": "code",
   "execution_count": null,
   "metadata": {},
   "outputs": [],
   "source": [
    "print(train.count())\n",
    "test.count()"
   ]
  },
  {
   "cell_type": "code",
   "execution_count": null,
   "metadata": {},
   "outputs": [],
   "source": [
    "categorial_variables = ['CODE_GENDER', 'FLAG_OWN_CAR', 'FLAG_OWN_REALTY']\n",
    "\n",
    "for variable in categorial_variables:\n",
    "    indexer = StringIndexer(inputCol=variable, outputCol=variable+'_index').fit(train)\n",
    "    train = indexer.transform(train)\n",
    "    test = indexer.transform(test)\n",
    "    \n",
    "    encoder = OneHotEncoder(inputCol=variable+\"_index\", outputCol=variable+\"_vec\").fit(train)\n",
    "    train = encoder.transform(train)\n",
    "    test = encoder.transform(test)"
   ]
  },
  {
   "cell_type": "code",
   "execution_count": null,
   "metadata": {},
   "outputs": [],
   "source": [
    "train.show()"
   ]
  },
  {
   "cell_type": "code",
   "execution_count": null,
   "metadata": {},
   "outputs": [],
   "source": [
    "asselmbler = VectorAssembler(\n",
    "    inputCols=['AMT_INCOME_TOTAL', 'CNT_CHILDREN ', 'CODE_GENDER_vec', 'FLAG_OWN_CAR_vec', 'FLAG_OWN_REALTY_vec'],\n",
    "    outputCol='features'\n",
    ")"
   ]
  },
  {
   "cell_type": "code",
   "execution_count": null,
   "metadata": {},
   "outputs": [],
   "source": [
    "train = asselmbler.transform(train)\n",
    "test = asselmbler.transform(test)"
   ]
  },
  {
   "cell_type": "code",
   "execution_count": null,
   "metadata": {},
   "outputs": [],
   "source": [
    "lrgen = LinearRegression(labelCol='target', featuresCol='features')"
   ]
  },
  {
   "cell_type": "code",
   "execution_count": null,
   "metadata": {},
   "outputs": [],
   "source": [
    "linear_model = lrgen.fit(train)\n",
    "\n",
    "trainingSummary = linear_model.summary\n",
    "print(\"RMSE: %f\" % trainingSummary.rootMeanSquaredError)\n",
    "print(\"r2: %f\" % trainingSummary.r2)"
   ]
  },
  {
   "cell_type": "code",
   "execution_count": null,
   "metadata": {},
   "outputs": [],
   "source": [
    "result = linear_model.transform(test).select(['target', 'prediction'])\n",
    "result.show()"
   ]
  },
  {
   "cell_type": "code",
   "execution_count": null,
   "metadata": {},
   "outputs": [],
   "source": [
    "from pyspark.ml.evaluation import RegressionEvaluator\n",
    "lr_evaluator = RegressionEvaluator(labelCol='target', metricName=\"r2\", predictionCol='prediction')\n",
    "r2 = lr_evaluator.evaluate(result)\n",
    "test_evaluation = linear_model.evaluate(test)\n",
    "print('RMSE:{:.3}'.format(test_evaluation.rootMeanSquaredError))\n",
    "print('r2:{:.3}'.format(test_evaluation.r2))"
   ]
  },
  {
   "cell_type": "markdown",
   "metadata": {},
   "source": [
    "RMSE тренировочной и тестовой близки"
   ]
  },
  {
   "cell_type": "code",
   "execution_count": null,
   "metadata": {},
   "outputs": [],
   "source": [
    "linear_model.coefficients"
   ]
  },
  {
   "cell_type": "code",
   "execution_count": null,
   "metadata": {},
   "outputs": [],
   "source": []
  },
  {
   "cell_type": "code",
   "execution_count": null,
   "metadata": {},
   "outputs": [],
   "source": []
  },
  {
   "cell_type": "markdown",
   "metadata": {},
   "source": [
    "Случайная лесная регрессия"
   ]
  },
  {
   "cell_type": "code",
   "execution_count": null,
   "metadata": {},
   "outputs": [],
   "source": [
    "from pyspark.ml.regression import RandomForestRegressor\n",
    "rf = RandomForestRegressor(numTrees=10, maxDepth=5, seed=101, labelCol='target')\n",
    "rf_model = rf.fit(train)"
   ]
  },
  {
   "cell_type": "code",
   "execution_count": null,
   "metadata": {},
   "outputs": [],
   "source": [
    "result = rf_model.transform(test).select(['target', 'prediction'])\n",
    "result.show()"
   ]
  },
  {
   "cell_type": "code",
   "execution_count": null,
   "metadata": {},
   "outputs": [],
   "source": [
    "rf_evaluator = RegressionEvaluator(labelCol='target', metricName=\"rmse\", predictionCol='prediction')\n",
    "rmse = rf_evaluator.evaluate(result)\n",
    "print(\"Среднеквадратическая ошибка тестовых данных (rmse): {}\".format(rmse))"
   ]
  },
  {
   "cell_type": "code",
   "execution_count": null,
   "metadata": {},
   "outputs": [],
   "source": []
  }
 ],
 "metadata": {
  "colab": {
   "provenance": []
  },
  "kernelspec": {
   "display_name": "Python 3 (ipykernel)",
   "language": "python",
   "name": "python3"
  },
  "language_info": {
   "codemirror_mode": {
    "name": "ipython",
    "version": 3
   },
   "file_extension": ".py",
   "mimetype": "text/x-python",
   "name": "python",
   "nbconvert_exporter": "python",
   "pygments_lexer": "ipython3",
   "version": "3.9.13"
  }
 },
 "nbformat": 4,
 "nbformat_minor": 4
}
